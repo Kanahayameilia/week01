{
  "nbformat": 4,
  "nbformat_minor": 0,
  "metadata": {
    "colab": {
      "provenance": [],
      "authorship_tag": "ABX9TyN7AS5WgoZbDTMyxsq3bLc1",
      "include_colab_link": true
    },
    "kernelspec": {
      "name": "python3",
      "display_name": "Python 3"
    },
    "language_info": {
      "name": "python"
    }
  },
  "cells": [
    {
      "cell_type": "markdown",
      "metadata": {
        "id": "view-in-github",
        "colab_type": "text"
      },
      "source": [
        "<a href=\"https://colab.research.google.com/github/Kanahayameilia/week01/blob/main/Salinan_dari_week1.ipynb\" target=\"_parent\"><img src=\"https://colab.research.google.com/assets/colab-badge.svg\" alt=\"Open In Colab\"/></a>"
      ]
    },
    {
      "cell_type": "code",
      "source": [
        "!git --version"
      ],
      "metadata": {
        "colab": {
          "base_uri": "https://localhost:8080/"
        },
        "id": "MK1uc4XyNh_y",
        "outputId": "5031f856-ca22-403a-af18-6486f86f32f3"
      },
      "execution_count": null,
      "outputs": [
        {
          "output_type": "stream",
          "name": "stdout",
          "text": [
            "git version 2.34.1\n"
          ]
        }
      ]
    },
    {
      "cell_type": "code",
      "execution_count": null,
      "metadata": {
        "id": "Rw-U50iQLr0m"
      },
      "outputs": [],
      "source": [
        "!git config --global user.name \"Kanahayameilia\""
      ]
    },
    {
      "cell_type": "code",
      "source": [
        "!git config --global user.email \"Kanahayameiliea@gmail.com\""
      ],
      "metadata": {
        "id": "qr4B9zV5N1Ov"
      },
      "execution_count": null,
      "outputs": []
    },
    {
      "cell_type": "code",
      "source": [
        "print ('Hello, Python! anaya rombel 1')\n",
        "#tutor jago python"
      ],
      "metadata": {
        "colab": {
          "base_uri": "https://localhost:8080/"
        },
        "id": "zG0maPIUNDpN",
        "outputId": "72afa418-1dd3-45b1-8d3e-1bafa44ed63a"
      },
      "execution_count": null,
      "outputs": [
        {
          "output_type": "stream",
          "name": "stdout",
          "text": [
            "Hello, Python! anaya rombel 1\n"
          ]
        }
      ]
    },
    {
      "cell_type": "code",
      "source": [
        "print ('Nama          : Kanahaya Meilia Sakti')\n",
        "print ('NPM           : 2420506021')\n",
        "print ('Alamat        : Kost Anggrek, Cemara 7, Jl. Buton Gg. Angggrek 5')\n",
        "print ('Tinggi Badan  : 155cm')\n",
        "print ('Berat Badan   : 46KG')"
      ],
      "metadata": {
        "colab": {
          "base_uri": "https://localhost:8080/"
        },
        "id": "UahnaS5lOFps",
        "outputId": "8fdf9a04-428c-48ce-a8a1-d321aa589246"
      },
      "execution_count": null,
      "outputs": [
        {
          "output_type": "stream",
          "name": "stdout",
          "text": [
            "Nama          : Kanahaya Meilia Sakti\n",
            "NPM           : 2420506021\n",
            "Alamat        : Kost Anggrek, Cemara 7, Jl. Buton Gg. Angggrek 5\n",
            "Tinggi Badan  : 155cm\n",
            "Berat Badan   : 46KG\n"
          ]
        }
      ]
    },
    {
      "cell_type": "code",
      "source": [
        "print (\"\\033[1m UNIVERSITAS TIDAR \\033[0m\")\n",
        "print ('Universitas Tidar merupakan Perguruan Tingi Pemerintah atau \\nPerguruan Tinggi Negeri yang telah ditetapkan berdasarkan \\nPeraturan Presiden Republik Indonesia Nomor 23 Tahun 2014 pada tanggal 1 April 2014.')\n",
        "print ('\\n')\n",
        "print (\"\\033[1m JURUSAN TEKNIK ELEKTRO, MEKATRONIKA, SIPIL, DRPM, TEKNOLOLOGI INFORMASI, INDUSTRI, MESIN \\033[0m\")\n",
        "print ('1. S1 Teknik Elektro  \\033[3m Bachelor of Electrical Engineering \\033[0m')\n",
        "print ('2. S1 Teknik Mekatronika  \\033[3m Bachelor of Mechatronics Engineering \\033[0m')\n",
        "print ('3. S1 Teknik Sipil  \\033[3m Bachelor of Civil Engineering \\033[0m')\n",
        "print ('4. D4 TEKNOLOGI REKAYASA PERANCANGAN MANUFAKTUR  \\033[3m Bachelor of Civil Engineering \\033[0m')\n",
        "print ('5. S1 Teknologi Informasi  \\033[3m Bachelor of Civil Engineering \\033[0m')\n",
        "print ('6. S1 Teknik Industri  \\033[3m Bachelor of Civil Engineering \\033[0m')\n",
        "print ('7. S1 Teknik Mesin  \\033[3m Bachelor of Civil Engineering \\033[0m')"
      ],
      "metadata": {
        "colab": {
          "base_uri": "https://localhost:8080/"
        },
        "id": "P78ub_PpP55u",
        "outputId": "f50edb8f-19ba-499e-cf23-4f621ad556ba"
      },
      "execution_count": null,
      "outputs": [
        {
          "output_type": "stream",
          "name": "stdout",
          "text": [
            "\u001b[1m UNIVERSITAS TIDAR \u001b[0m\n",
            "Universitas Tidar merupakan Perguruan Tingi Pemerintah atau \n",
            "Perguruan Tinggi Negeri yang telah ditetapkan berdasarkan \n",
            "Peraturan Presiden Republik Indonesia Nomor 23 Tahun 2014 pada tanggal 1 April 2014.\n",
            "\n",
            "\n",
            "\u001b[1m JURUSAN TEKNIK ELEKTRO, MEKATRONIKA, SIPIL, DRPM, TEKNOLOLOGI INFORMASI, INDUSTRI, MESIN \u001b[0m\n",
            "1. S1 Teknik Elektro  \u001b[3m Bachelor of Electrical Engineering \u001b[0m\n",
            "2. S1 Teknik Mekatronika  \u001b[3m Bachelor of Mechatronics Engineering \u001b[0m\n",
            "3. S1 Teknik Sipil  \u001b[3m Bachelor of Civil Engineering \u001b[0m\n",
            "4. D4 TEKNOLOGI REKAYASA PERANCANGAN MANUFAKTUR  \u001b[3m Bachelor of Civil Engineering \u001b[0m\n",
            "5. S1 Teknologi Informasi  \u001b[3m Bachelor of Civil Engineering \u001b[0m\n",
            "6. S1 Teknik Industri  \u001b[3m Bachelor of Civil Engineering \u001b[0m\n",
            "7. S1 Teknik Mesin  \u001b[3m Bachelor of Civil Engineering \u001b[0m\n"
          ]
        }
      ]
    }
  ]
}